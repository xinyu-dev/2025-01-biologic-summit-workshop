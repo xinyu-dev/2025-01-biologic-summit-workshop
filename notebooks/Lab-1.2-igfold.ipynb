{
 "cells": [
  {
   "cell_type": "code",
   "execution_count": 1,
   "metadata": {},
   "outputs": [
    {
     "name": "stderr",
     "output_type": "stream",
     "text": [
      "/home/sagemaker-user/.conda/envs/workshop/lib/python3.10/site-packages/tqdm/auto.py:21: TqdmWarning: IProgress not found. Please update jupyter and ipywidgets. See https://ipywidgets.readthedocs.io/en/stable/user_install.html\n",
      "  from .autonotebook import tqdm as notebook_tqdm\n",
      "/home/sagemaker-user/.conda/envs/workshop/lib/python3.10/site-packages/Bio/pairwise2.py:278: BiopythonDeprecationWarning: Bio.pairwise2 has been deprecated, and we intend to remove it in a future release of Biopython. As an alternative, please consider using Bio.Align.PairwiseAligner as a replacement, and contact the Biopython developers if you still need the Bio.pairwise2 module.\n",
      "  warnings.warn(\n",
      "/home/sagemaker-user/.conda/envs/workshop/lib/python3.10/site-packages/lightning_lite/utilities/cloud_io.py:48: FutureWarning: You are using `torch.load` with `weights_only=False` (the current default value), which uses the default pickle module implicitly. It is possible to construct malicious pickle data which will execute arbitrary code during unpickling (See https://github.com/pytorch/pytorch/blob/main/SECURITY.md#untrusted-models for more details). In a future release, the default value for `weights_only` will be flipped to `True`. This limits the functions that could be executed during unpickling. Arbitrary objects will no longer be allowed to be loaded via this mode unless they are explicitly allowlisted by the user via `torch.serialization.add_safe_globals`. We recommend you start setting `weights_only=True` for any use case where you don't have full control of the loaded file. Please open an issue on GitHub for any issues related to this experimental feature.\n",
      "  return torch.load(f, map_location=map_location)\n"
     ]
    },
    {
     "name": "stdout",
     "output_type": "stream",
     "text": [
      "\n",
      "    The code, data, and weights for this work are made available for non-commercial use \n",
      "    (including at commercial entities) under the terms of the JHU Academic Software License \n",
      "    Agreement. For commercial inquiries, please contact awichma2[at]jhu.edu.\n",
      "    License: https://github.com/Graylab/IgFold/blob/main/LICENSE.md\n",
      "    \n",
      "Loading 4 IgFold models...\n",
      "Using device: cpu\n",
      "Loading /home/sagemaker-user/.conda/envs/workshop/lib/python3.10/site-packages/igfold/trained_models/IgFold/igfold_1.ckpt...\n",
      "Loading /home/sagemaker-user/.conda/envs/workshop/lib/python3.10/site-packages/igfold/trained_models/IgFold/igfold_2.ckpt...\n",
      "Loading /home/sagemaker-user/.conda/envs/workshop/lib/python3.10/site-packages/igfold/trained_models/IgFold/igfold_3.ckpt...\n",
      "Loading /home/sagemaker-user/.conda/envs/workshop/lib/python3.10/site-packages/igfold/trained_models/IgFold/igfold_5.ckpt...\n",
      "Successfully loaded 4 IgFold models.\n"
     ]
    },
    {
     "name": "stderr",
     "output_type": "stream",
     "text": [
      "BertSdpaSelfAttention is used but `torch.nn.functional.scaled_dot_product_attention` does not support non-absolute `position_embedding_type` or `output_attentions=True` or `head_mask`. Falling back to the manual attention implementation, but specifying the manual implementation will be required from Transformers version v5.0.0 onwards. This warning can be removed using the argument `attn_implementation=\"eager\"` when loading the model.\n"
     ]
    },
    {
     "name": "stdout",
     "output_type": "stream",
     "text": [
      "Loaded AntiBERTy model.\n"
     ]
    },
    {
     "name": "stderr",
     "output_type": "stream",
     "text": [
      "/home/sagemaker-user/.conda/envs/workshop/lib/python3.10/site-packages/igfold/utils/coordinates.py:18: UserWarning: Using torch.cross without specifying the dim arg is deprecated.\n",
      "Please either pass the dim explicitly or simply use torch.linalg.cross.\n",
      "The default value of dim will change to agree with that of linalg.cross in a future release. (Triggered internally at ../aten/src/ATen/native/Cross.cpp:62.)\n",
      "  n_vec = (b_coord - a_coord).expand(bc_vec.shape).cross(bc_vec)\n",
      "/home/sagemaker-user/.conda/envs/workshop/lib/python3.10/site-packages/igfold/model/components/IPABlock.py:160: FutureWarning: `torch.cuda.amp.autocast(args...)` is deprecated. Please use `torch.amp.autocast('cuda', args...)` instead.\n",
      "  with disable_tf32(), autocast(enabled = False):\n",
      "Warning: importing 'simtk.openmm' is deprecated.  Import 'openmm' instead.\n"
     ]
    }
   ],
   "source": [
    "from igfold import IgFoldRunner\n",
    "\n",
    "sequences = {\n",
    "    \"H\": \"EVQLVQSGPEVKKPGTSVKVSCKASGFTFMSSAVQWVRQARGQRLEWIGWIVIGSGNTNYAQKFQERVTITRDMSTSTAYMELSSLRSEDTAVYYCAAPYCSSISCNDGFDIWGQGTMVTVS\",\n",
    "    \"L\": \"DVVMTQTPFSLPVSLGDQASISCRSSQSLVHSNGNTYLHWYLQKPGQSPKLLIYKVSNRFSGVPDRFSGSGSGTDFTLKISRVEAEDLGVYFCSQSTHVPYTFGGGTKLEIK\"\n",
    "}\n",
    "pred_pdb = \"my_antibody.pdb\"\n",
    "\n",
    "igfold = IgFoldRunner()\n",
    "igfold.fold(\n",
    "    pred_pdb, # Output PDB file\n",
    "    sequences=sequences, # Antibody sequences\n",
    "    do_refine=True, # Refine the antibody structure with PyRosetta\n",
    "    use_openmm=True, # Use OpenMM for relaxation\n",
    "    do_renum=False, # Renumber predicted antibody structure (Chothia)\n",
    ")"
   ]
  },
  {
   "cell_type": "code",
   "execution_count": null,
   "metadata": {},
   "outputs": [],
   "source": [
    " # pip install \"pytorch-lightning<1.9.0\" --force-reinstall"
   ]
  },
  {
   "cell_type": "code",
   "execution_count": null,
   "metadata": {},
   "outputs": [],
   "source": []
  }
 ],
 "metadata": {
  "kernelspec": {
   "display_name": "workshop",
   "language": "python",
   "name": "python3"
  },
  "language_info": {
   "codemirror_mode": {
    "name": "ipython",
    "version": 3
   },
   "file_extension": ".py",
   "mimetype": "text/x-python",
   "name": "python",
   "nbconvert_exporter": "python",
   "pygments_lexer": "ipython3",
   "version": "3.10.15"
  }
 },
 "nbformat": 4,
 "nbformat_minor": 2
}
