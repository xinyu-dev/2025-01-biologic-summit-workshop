{
 "cells": [
  {
   "cell_type": "markdown",
   "metadata": {},
   "source": [
    "# Lab 1.4 A simple research assistant"
   ]
  },
  {
   "cell_type": "markdown",
   "metadata": {},
   "source": [
    "To start: \n",
    "\n",
    "1. Open a terminal, and CD into the `research_assistant` directory\n",
    "    ```bash\n",
    "    cd research_assistant/\n",
    "    ```\n",
    "2. Build the virtual environment of crewai first: \n",
    "    ```bash\n",
    "    crewai install\n",
    "    ```\n",
    "3. Open the `research_assistant/.venv/pyvenv.cfg` directory, change this line to `true`, so that crewai can utilize the conda environmen pacakges: \n",
    "    ```bash\n",
    "    include-system-site-packages = true\n",
    "    ```\n",
    "3. Navigate to `research_assistant/main.py` directory. There are 3 example inputs. Change this line to swap between the 3 inputs: \n",
    "\n",
    "    ```python\n",
    "        inputs = {\n",
    "            'inputs': example_input3 # change this line to swap between the 3 inputs\n",
    "        }\n",
    "    ```\n",
    "    Alternatively, you can change the sequence in each example, or use your own sequence \n",
    "4. Back to the terminal, make sure you still in the `research_assistant` directory, and run the following command to kickoff the research assistant: \n",
    "    ```bash\n",
    "    crewai run\n",
    "    ```\n"
   ]
  },
  {
   "cell_type": "markdown",
   "metadata": {},
   "source": []
  }
 ],
 "metadata": {
  "kernelspec": {
   "display_name": "bionemo",
   "language": "python",
   "name": "python3"
  },
  "language_info": {
   "codemirror_mode": {
    "name": "ipython",
    "version": 3
   },
   "file_extension": ".py",
   "mimetype": "text/x-python",
   "name": "python",
   "nbconvert_exporter": "python",
   "pygments_lexer": "ipython3",
   "version": "3.12.7"
  }
 },
 "nbformat": 4,
 "nbformat_minor": 2
}
