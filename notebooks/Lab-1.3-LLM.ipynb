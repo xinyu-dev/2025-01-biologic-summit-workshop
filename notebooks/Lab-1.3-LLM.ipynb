{
 "cells": [
  {
   "cell_type": "markdown",
   "metadata": {},
   "source": [
    "# Lab 1.3 LLM NIMs"
   ]
  },
  {
   "cell_type": "markdown",
   "metadata": {},
   "source": [
    "In this notebook, we will take a look at LLMs. These are foundation models that are pre-trained on a large corpus of text and can be used for a variety of tasks such as language translation, question answering, and text generation. \n",
    "\n",
    "In AI assistants, LLM with planning, memory, and tool-calling capabilities are called agents. Depending on the prompt, tool, etc, each agent can have different responsibilities. \n",
    "\n",
    "A group of agents working together is called a crew. \n",
    "\n",
    "In the whole process, LLMs are critical. They make decisions on which tools to use (among the available tools they have), when to use, extract data, and synthesize the response. \n",
    "\n",
    "In this notebook, we will look at a basic example of a chat function of [llama 3.1 LLM hosted on NVIDIA](https://build.nvidia.com/meta/llama-3_1-70b-instruct?snippet_tab=LangChain). With the same NGC API key, you can access all NIMs in the NVIDIA catalog."
   ]
  },
  {
   "cell_type": "code",
   "execution_count": 1,
   "metadata": {},
   "outputs": [
    {
     "data": {
      "text/plain": [
       "True"
      ]
     },
     "execution_count": 1,
     "metadata": {},
     "output_type": "execute_result"
    }
   ],
   "source": [
    "from langchain_nvidia_ai_endpoints import ChatNVIDIA\n",
    "import os\n",
    "from dotenv import load_dotenv\n",
    "# load the API key from the .env file\n",
    "load_dotenv()"
   ]
  },
  {
   "cell_type": "markdown",
   "metadata": {},
   "source": [
    "Note: \n",
    "If `meta/llama-3.1-405-instruct` hangs, we could try the following NIMs: \n",
    "- `nvidia_nim/meta/llama-3.1-8b-instruct`\n",
    "- `nvidia_nim/meta/llama-3.1-70-instruct`\n",
    "- `nv-mistralai/mistral-nemo-12b-instruct`\n",
    "\n",
    "\n",
    "These models all have function calling capabilities. See [here](https://docs.nvidia.com/nim/large-language-models/latest/function-calling.html)\n"
   ]
  },
  {
   "cell_type": "code",
   "execution_count": 2,
   "metadata": {},
   "outputs": [
    {
     "name": "stdout",
     "output_type": "stream",
     "text": [
      "Antibodies, also known as immunoglobulins, are Y-shaped proteins produced by B cells (a type of white blood cell) in response to the presence of foreign substances, such as bacteria, viruses, or other pathogens. The structure of an antibody is crucial to its function, which is to recognize and bind to specific antigens, helping to neutralize or remove them from the body.\n",
      "\n",
      "### Basic Structure of an Antibody\n",
      "\n",
      "An antibody consists of four polypeptide chains: two heavy chains and two light chains. These chains are held together by disulfide bonds to form a Y-shaped molecule. The structure can be divided into two main parts: the variable region and the constant region.\n",
      "\n",
      "1. **Variable Region (V Region):**\n",
      "   - Located at the tips of the Y, the variable regions of both the heavy and light chains (VH and VL) combine to form the antigen-binding site. This site is unique to each antibody and is responsible for recognizing and binding to a specific antigen. The variability in this region allows the immune system to generate antibodies against a vast array of antigens.\n",
      "\n",
      "2. **Constant Region (C Region):**\n",
      "   - The constant regions of the heavy and light chains (CH and CL) make up the tail of the Y and the base of the arms. The constant region of the heavy chain determines the class (isotype) of the antibody, which influences how the antibody interacts with immune effector cells and other molecules. There are five classes of antibodies: IgA, IgD, IgE, IgG, and IgM, each with different roles in the immune response.\n",
      "\n",
      "### Domains\n",
      "\n",
      "Both the heavy and light chains are composed of repeating units called domains. Each domain is about 110 amino acids long and has a characteristic structure known as the immunoglobulin fold. The light chain has one variable domain (VL) and one constant domain (CL), while the heavy chain has one variable domain (VH), a diversity domain (D), a joining domain (J), and three or four constant domains (CH1, CH2, CH3, and sometimes CH4).\n",
      "\n",
      "### Hinge Region\n",
      "\n",
      "The hinge region is a flexible part of the antibody that connects the two Fab regions (fragment, antigen-binding) to the Fc region (fragment, crystallizable). This flexibility allows the antibody to bind to antigens with different shapes and sizes.\n",
      "\n",
      "### Function\n",
      "\n",
      "- **Antigen Binding:** The variable regions bind to specific antigens, marking them for destruction.\n",
      "- **Effector Functions:** The constant region interacts with immune effector cells and molecules, such as complement proteins, to facilitate the removal of antigens.\n",
      "\n",
      "In summary, the structure of an antibody is tailored for its function: the variable regions provide specificity for antigen recognition, while the constant regions determine the mechanism used to eliminate the antigen from the body. This highly specific and adaptable structure is crucial for the immune system's ability to defend against pathogens."
     ]
    }
   ],
   "source": [
    "\n",
    "# initialize the LLM client\n",
    "client = ChatNVIDIA(\n",
    "  model=\"meta/llama-3.1-405b-instruct\",\n",
    "  api_key=os.getenv(\"NVIDIA_NIM_API_KEY\"), \n",
    "  temperature=0.2,\n",
    "  top_p=0.7,\n",
    "  max_tokens=1024,\n",
    ")\n",
    "\n",
    "# replace with your own question\n",
    "user_question = \"Explain structure of an antibody\"\n",
    "\n",
    "# stream the response\n",
    "for chunk in client.stream([{\"role\":\"user\",\"content\":user_question}]): \n",
    "  print(chunk.content, end=\"\")\n",
    "\n",
    "  \n"
   ]
  },
  {
   "cell_type": "code",
   "execution_count": null,
   "metadata": {},
   "outputs": [],
   "source": []
  }
 ],
 "metadata": {
  "kernelspec": {
   "display_name": "workshop",
   "language": "python",
   "name": "python3"
  },
  "language_info": {
   "codemirror_mode": {
    "name": "ipython",
    "version": 3
   },
   "file_extension": ".py",
   "mimetype": "text/x-python",
   "name": "python",
   "nbconvert_exporter": "python",
   "pygments_lexer": "ipython3",
   "version": "3.12.7"
  }
 },
 "nbformat": 4,
 "nbformat_minor": 2
}
