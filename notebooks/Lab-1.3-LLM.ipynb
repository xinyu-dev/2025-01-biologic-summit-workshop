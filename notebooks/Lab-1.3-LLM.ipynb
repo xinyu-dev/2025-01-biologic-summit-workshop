{
 "cells": [
  {
   "cell_type": "markdown",
   "metadata": {},
   "source": [
    "# Lab 1.3 LLM NIMs"
   ]
  },
  {
   "cell_type": "markdown",
   "metadata": {},
   "source": [
    "In this notebook, we will take a look at LLMs. These are foundation models that are pre-trained on a large corpus of text and can be used for a variety of tasks such as language translation, question answering, and text generation. \n",
    "\n",
    "In AI assistants, LLM with planning, memory, and tool-calling capabilities are called agents. Depending on the prompt, tool, etc, each agent can have different responsibilities. \n",
    "\n",
    "A group of agents working together is called a crew. \n",
    "\n",
    "In the whole process, LLMs are critical. They make decisions on which tools to use (among the available tools they have), when to use, extract data, and synthesize the response. \n",
    "\n",
    "In this notebook, we will look at a basic example of a chat function of [llama 3.1 LLM hosted on NVIDIA](https://build.nvidia.com/meta/llama-3_1-70b-instruct?snippet_tab=LangChain). With the same NGC API key, you can access all NIMs in the NVIDIA catalog."
   ]
  },
  {
   "cell_type": "code",
   "execution_count": 3,
   "metadata": {},
   "outputs": [],
   "source": [
    "from langchain_nvidia_ai_endpoints import ChatNVIDIA\n",
    "import os"
   ]
  },
  {
   "cell_type": "code",
   "execution_count": 5,
   "metadata": {},
   "outputs": [
    {
     "name": "stdout",
     "output_type": "stream",
     "text": [
      "An antibody, also known as an immunoglobulin, is a Y-shaped protein produced by B cells (a type of white blood cell) in response to the presence of a foreign substance, such as a pathogen or toxin. The structure of an antibody is crucial for its function, which is to bind specifically to an antigen (the foreign substance) and help neutralize or remove it from the body.\n",
      "\n",
      "Here's a breakdown of the structure of an antibody:\n",
      "\n",
      "**Overall Structure:**\n",
      "An antibody is composed of four polypeptide chains: two heavy chains (H) and two light chains (L). These chains are held together by disulfide bonds, which are strong chemical bonds between sulfur atoms.\n",
      "\n",
      "**Heavy Chains (H):**\n",
      "The two heavy chains are identical and are responsible for the overall structure and function of the antibody. Each heavy chain consists of:\n",
      "\n",
      "1. **Variable region (VH):** The variable region is the part of the heavy chain that recognizes and binds to the antigen. It is highly variable in sequence and structure, allowing the antibody to bind to a wide range of antigens.\n",
      "2. **Constant region (CH):** The constant region is the part of the heavy chain that provides the structural framework for the antibody. It is relatively constant in sequence and structure among different antibodies.\n",
      "\n",
      "**Light Chains (L):**\n",
      "The two light chains are also identical and are responsible for the specificity of the antibody. Each light chain consists of:\n",
      "\n",
      "1. **Variable region (VL):** The variable region of the light chain is similar to the variable region of the heavy chain and also recognizes and binds to the antigen.\n",
      "2. **Constant region (CL):** The constant region of the light chain is relatively constant in sequence and structure among different antibodies.\n",
      "\n",
      "**Antigen-Binding Site:**\n",
      "The antigen-binding site is the region of the antibody where the variable regions of the heavy and light chains come together to form a unique shape that recognizes and binds to the antigen. This site is also known as the paratope.\n",
      "\n",
      "**F(ab')2 and Fc Regions:**\n",
      "The antibody can be divided into two main regions:\n",
      "\n",
      "1. **F(ab')2 region:** This region consists of the variable regions of the heavy and light chains, which form the antigen-binding site.\n",
      "2. **Fc region:** This region consists of the constant regions of the heavy chains and is responsible for interacting with immune cells, such as neutrophils and macrophages, to help eliminate the antigen.\n",
      "\n",
      "**Classes of Antibodies:**\n",
      "There are five classes of antibodies, each with a different structure and function:\n",
      "\n",
      "1. IgA (Immunoglobulin A)\n",
      "2. IgD (Immunoglobulin D)\n",
      "3. IgE (Immunoglobulin E)\n",
      "4. IgG (Immunoglobulin G)\n",
      "5. IgM (Immunoglobulin M)\n",
      "\n",
      "Each class of antibody has a different structure and function, but they all share the same basic Y-shaped structure.\n",
      "\n",
      "I hope this helps you understand the structure of an antibody!"
     ]
    }
   ],
   "source": [
    "\n",
    "# initialize the LLM client\n",
    "client = ChatNVIDIA(\n",
    "  model=\"meta/llama-3.1-70b-instruct\",\n",
    "  api_key=os.getenv(\"NVIDIA_NIM_API_KEY\"), \n",
    "  temperature=0.2,\n",
    "  top_p=0.7,\n",
    "  max_tokens=1024,\n",
    ")\n",
    "\n",
    "# replace with your own question\n",
    "user_question = \"Explain structure of an antibody\"\n",
    "\n",
    "# stream the response\n",
    "for chunk in client.stream([{\"role\":\"user\",\"content\":user_question}]): \n",
    "  print(chunk.content, end=\"\")\n",
    "\n",
    "  \n"
   ]
  },
  {
   "cell_type": "code",
   "execution_count": null,
   "metadata": {},
   "outputs": [],
   "source": []
  }
 ],
 "metadata": {
  "kernelspec": {
   "display_name": "workshop",
   "language": "python",
   "name": "python3"
  },
  "language_info": {
   "codemirror_mode": {
    "name": "ipython",
    "version": 3
   },
   "file_extension": ".py",
   "mimetype": "text/x-python",
   "name": "python",
   "nbconvert_exporter": "python",
   "pygments_lexer": "ipython3",
   "version": "3.12.7"
  }
 },
 "nbformat": 4,
 "nbformat_minor": 2
}
