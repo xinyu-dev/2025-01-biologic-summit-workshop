{
 "cells": [
  {
   "cell_type": "markdown",
   "metadata": {},
   "source": [
    "# Lab 1.3 LLM"
   ]
  },
  {
   "cell_type": "markdown",
   "metadata": {},
   "source": [
    "In this notebook, we will take a look at LLMs. These are foundation models that are pre-trained on a large corpus of text and can be used for a variety of tasks such as language translation, question answering, and text generation. \n",
    "\n",
    "In AI assistants, LLM bound to diffrent tools (e.g. EMSFold model, Boltz-1 model, etc) orchestrate the whole agentic workflows. They make decisions on which tools to use, when to use, format the input data, and read the output data. \n",
    "\n",
    "In this notebook, we will look at the most basic example of a chat function of [llama 3.1 LLM, hosted on NVIDIA](https://build.nvidia.com/meta/llama-3_1-70b-instruct?snippet_tab=LangChain)"
   ]
  },
  {
   "cell_type": "code",
   "execution_count": 3,
   "metadata": {},
   "outputs": [],
   "source": [
    "from langchain_nvidia_ai_endpoints import ChatNVIDIA\n",
    "import os"
   ]
  },
  {
   "cell_type": "code",
   "execution_count": 4,
   "metadata": {},
   "outputs": [
    {
     "name": "stdout",
     "output_type": "stream",
     "text": [
      "An antibody, also known as an immunoglobulin, is a Y-shaped protein produced by B cells (a type of white blood cell) in response to the presence of foreign substances, such as bacteria, viruses, or other pathogens. The structure of an antibody is crucial for its function, which is to recognize and bind to specific antigens, marking them for destruction by the immune system.\n",
      "\n",
      "**Overall Structure:**\n",
      "\n",
      "An antibody consists of four polypeptide chains: two heavy chains (H) and two light chains (L). These chains are held together by disulfide bonds, which are strong chemical bonds between sulfur atoms.\n",
      "\n",
      "**Heavy Chains (H):**\n",
      "\n",
      "* Each heavy chain has a molecular weight of approximately 50,000-70,000 Da.\n",
      "* Heavy chains are composed of a variable region (VH) and a constant region (CH).\n",
      "* The variable region (VH) is responsible for recognizing and binding to the antigen.\n",
      "* The constant region (CH) is responsible for interacting with other immune cells, such as complement proteins and Fc receptors.\n",
      "\n",
      "**Light Chains (L):**\n",
      "\n",
      "* Each light chain has a molecular weight of approximately 20,000-25,000 Da.\n",
      "* Light chains are composed of a variable region (VL) and a constant region (CL).\n",
      "* The variable region (VL) is also involved in recognizing and binding to the antigen.\n",
      "* The constant region (CL) is involved in stabilizing the antibody structure.\n",
      "\n",
      "**Variable Regions (VH and VL):**\n",
      "\n",
      "* The variable regions of both heavy and light chains are responsible for recognizing and binding to the antigen.\n",
      "* These regions are highly diverse, allowing antibodies to recognize a wide range of antigens.\n",
      "* The variable regions are composed of hypervariable loops, also known as complementarity-determining regions (CDRs), which are responsible for the specific binding to the antigen.\n",
      "\n",
      "**Constant Regions (CH and CL):**\n",
      "\n",
      "* The constant regions of both heavy and light chains are responsible for interacting with other immune cells and stabilizing the antibody structure.\n",
      "* The constant regions are relatively conserved, meaning they are similar across different antibody classes.\n",
      "\n",
      "**Antibody Classes:**\n",
      "\n",
      "* There are five main classes of antibodies, each with distinct functions and structures:\n",
      "\t1. IgA (Immunoglobulin A)\n",
      "\t2. IgD (Immunoglobulin D)\n",
      "\t3. IgE (Immunoglobulin E)\n",
      "\t4. IgG (Immunoglobulin G)\n",
      "\t5. IgM (Immunoglobulin M)\n",
      "\n",
      "**Key Features:**\n",
      "\n",
      "* The Y-shaped structure of an antibody allows it to bind to two antigens simultaneously, increasing its avidity (binding strength).\n",
      "* The variable regions of the heavy and light chains are responsible for the specificity of the antibody-antigen interaction.\n",
      "* The constant regions of the heavy and light chains are responsible for the effector functions of the antibody, such as activating complement proteins and interacting with Fc receptors.\n",
      "\n",
      "In summary, the structure of an antibody is composed of four polypeptide chains (two heavy and two light) that are held together by disulfide bonds. The variable regions of the heavy and light chains are responsible for recognizing and binding to the antigen, while the constant regions are involved in interacting with other immune cells and stabilizing the antibody structure."
     ]
    }
   ],
   "source": [
    "\n",
    "client = ChatNVIDIA(\n",
    "  model=\"meta/llama-3.1-70b-instruct\",\n",
    "  api_key=os.getenv(\"NVIDIA_NIM_API_KEY\"), \n",
    "  temperature=0.2,\n",
    "  top_p=0.7,\n",
    "  max_tokens=1024,\n",
    ")\n",
    "\n",
    "for chunk in client.stream([{\"role\":\"user\",\"content\":\"Explain structure of an antibody\"}]): \n",
    "  print(chunk.content, end=\"\")\n",
    "\n",
    "  \n"
   ]
  },
  {
   "cell_type": "code",
   "execution_count": null,
   "metadata": {},
   "outputs": [],
   "source": []
  }
 ],
 "metadata": {
  "kernelspec": {
   "display_name": "workshop",
   "language": "python",
   "name": "python3"
  },
  "language_info": {
   "codemirror_mode": {
    "name": "ipython",
    "version": 3
   },
   "file_extension": ".py",
   "mimetype": "text/x-python",
   "name": "python",
   "nbconvert_exporter": "python",
   "pygments_lexer": "ipython3",
   "version": "3.12.7"
  }
 },
 "nbformat": 4,
 "nbformat_minor": 2
}
