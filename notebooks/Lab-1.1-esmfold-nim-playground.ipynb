{
 "cells": [
  {
   "cell_type": "markdown",
   "metadata": {},
   "source": [
    "# Lab 1.1 ESMFold NIM Playground"
   ]
  },
  {
   "cell_type": "code",
   "execution_count": 6,
   "metadata": {},
   "outputs": [
    {
     "data": {
      "text/plain": [
       "True"
      ]
     },
     "execution_count": 6,
     "metadata": {},
     "output_type": "execute_result"
    }
   ],
   "source": [
    "import os, requests, time, shutil\n",
    "from pathlib import Path\n",
    "# load .env file\n",
    "from dotenv import load_dotenv\n",
    "from loguru import logger\n",
    "load_dotenv()"
   ]
  },
  {
   "cell_type": "markdown",
   "metadata": {},
   "source": [
    "## Helper functions"
   ]
  },
  {
   "cell_type": "markdown",
   "metadata": {},
   "source": [
    "### Directory setup"
   ]
  },
  {
   "cell_type": "code",
   "execution_count": 7,
   "metadata": {},
   "outputs": [],
   "source": [
    "def preprare_directory(temp):\n",
    "    \"\"\"\n",
    "    Create a new directory and delete the old one if it exists\n",
    "    :param temp: str: path to the directory\n",
    "    \"\"\"\n",
    "    if os.path.exists(temp):\n",
    "        # Remove the directory and all its contents\n",
    "        shutil.rmtree(temp)\n",
    "    # Recreate the directory\n",
    "    os.makedirs(temp)"
   ]
  },
  {
   "cell_type": "markdown",
   "metadata": {},
   "source": [
    "### Interact with the hosted API endpoint at ESMFold Playground \n",
    "\n",
    "ESMFold playground can be accessed [here](https://build.stg.ngc.nvidia.com/meta/esmfold?snippet_tab=Python)\n"
   ]
  },
  {
   "cell_type": "code",
   "execution_count": 12,
   "metadata": {},
   "outputs": [],
   "source": [
    "class ESMFoldPlayground:\n",
    "    def __init__(self, NGC_API_KEY, query_url=None):\n",
    "        \"\"\"\n",
    "        Initialize the ESMFoldPlayground class\n",
    "        NGC_API_KEY: str, the API key to use\n",
    "        query_url: str, the url to send the request to, default is the ESMFold NIM endpoint\n",
    "        \"\"\"\n",
    "        self.NGC_API_KEY = NGC_API_KEY\n",
    "        self.query_url = query_url if query_url is not None else \"https://health.api.nvidia.com/v1/biology/nvidia/esmfold\"\n",
    "\n",
    "    \n",
    "    def predict(self,sequence, output_dir=None, output_file_name=\"predicted_protein.pdb\"):\n",
    "        \"\"\"\n",
    "        Main function to run the molecular docking\n",
    "        sequence: str, single aa sequence\n",
    "        output_dir: str, the directory to save the output to. If there are existing contents, it will be deleted and recreated. Defaults to None, and it will not save the output PDB file. \n",
    "        output_file_name: str, the name of the output PDB file. Defaults to \"predicted_protein.pdb\". Only used when output_dir is not None.\n",
    "        return JSON response\n",
    "        \"\"\"\n",
    "\n",
    "        # prepare output directory\n",
    "        if output_dir is not None:\n",
    "            preprare_directory(output_dir)\n",
    "        \n",
    "        # prepare data\n",
    "        data = {\n",
    "            \"sequence\": sequence,\n",
    "        }\n",
    "\n",
    "        # prepare headers\n",
    "        headers = {\n",
    "            \"Content-Type\": \"application/json\",\n",
    "            \"Authorization\": f\"Bearer {self.NGC_API_KEY}\"\n",
    "        }\n",
    "        \n",
    "        # send request\n",
    "        response = requests.post(self.query_url, headers=headers, json=data)\n",
    "        \n",
    "        # check response\n",
    "        if response.status_code == 200:\n",
    "            logger.success(\"Request successful\")\n",
    "            # save the output PDB file\n",
    "            result = response.json()\n",
    "            # Write PDB file\n",
    "            fp = os.path.join(output_dir, output_file_name)\n",
    "            with open(fp, \"w\") as f:\n",
    "                f.write(result[\"pdbs\"][0])\n",
    "        else:\n",
    "            logger.error(f\"Request failed with status code {response.status_code}. Output file will not be saved.\")\n",
    "            logger.error(\"Response:\", response.text)\n",
    "            \n",
    "        return response.json()"
   ]
  },
  {
   "cell_type": "markdown",
   "metadata": {},
   "source": [
    "## Try out the hosted API endpoint"
   ]
  },
  {
   "cell_type": "markdown",
   "metadata": {},
   "source": [
    "### Set up the inputs"
   ]
  },
  {
   "cell_type": "code",
   "execution_count": 14,
   "metadata": {},
   "outputs": [],
   "source": [
    "# get NGC API key\n",
    "NGC_API_KEY = os.getenv(\"NGC_API_KEY\")\n",
    "\n",
    "# source of VHH sequence: sdAb_5763_Ca from SdAb-Db: https://www.sdab-db.ca/?Display&ID=sdAb_5763_Ca\n",
    "VHH_seq = \"QVQLQESGGGLVQAGGSLRLSCAASGTISPLPAMGWYRQAPGKEREFVAGIDTGAITNYADSVKGRFTISRDNAKNTVYLQMNSLKPEDTAVYYCAVFPAAYDYYERYYTYWGQGTQVTVSS\"\n",
    "\n",
    "# output directory\n",
    "output = \"output/esmfold_result\"\n",
    "\n",
    "\n",
    "# initialize the ESMFoldPlayground class\n",
    "esmfold_playground = ESMFoldPlayground(\n",
    "    NGC_API_KEY=NGC_API_KEY\n",
    ")"
   ]
  },
  {
   "cell_type": "markdown",
   "metadata": {},
   "source": [
    "### Running the prediction"
   ]
  },
  {
   "cell_type": "code",
   "execution_count": 15,
   "metadata": {},
   "outputs": [
    {
     "name": "stderr",
     "output_type": "stream",
     "text": [
      "\u001b[32m2024-11-28 16:40:22.088\u001b[0m | \u001b[32m\u001b[1mSUCCESS \u001b[0m | \u001b[36m__main__\u001b[0m:\u001b[36mpredict\u001b[0m:\u001b[36m39\u001b[0m - \u001b[32m\u001b[1mRequest successful\u001b[0m\n"
     ]
    },
    {
     "name": "stdout",
     "output_type": "stream",
     "text": [
      "CPU times: user 7.9 ms, sys: 5.31 ms, total: 13.2 ms\n",
      "Wall time: 1.38 s\n"
     ]
    }
   ],
   "source": [
    "%%time \n",
    "# run prediction\n",
    "result = esmfold_playground.predict(\n",
    "    sequence=VHH_seq,\n",
    "    output_dir=output\n",
    ")\n"
   ]
  },
  {
   "cell_type": "markdown",
   "metadata": {},
   "source": [
    "### Analyze the result"
   ]
  },
  {
   "cell_type": "code",
   "execution_count": 17,
   "metadata": {},
   "outputs": [
    {
     "data": {
      "text/plain": [
       "dict_keys(['pdbs'])"
      ]
     },
     "execution_count": 17,
     "metadata": {},
     "output_type": "execute_result"
    }
   ],
   "source": [
    "result.keys()"
   ]
  },
  {
   "cell_type": "code",
   "execution_count": 18,
   "metadata": {},
   "outputs": [],
   "source": [
    "# only 1 sequence is allowed each time\n",
    "assert len(result[\"pdbs\"]) == 1"
   ]
  },
  {
   "cell_type": "code",
   "execution_count": null,
   "metadata": {},
   "outputs": [],
   "source": []
  }
 ],
 "metadata": {
  "kernelspec": {
   "display_name": "bionemo",
   "language": "python",
   "name": "python3"
  },
  "language_info": {
   "codemirror_mode": {
    "name": "ipython",
    "version": 3
   },
   "file_extension": ".py",
   "mimetype": "text/x-python",
   "name": "python",
   "nbconvert_exporter": "python",
   "pygments_lexer": "ipython3",
   "version": "3.13.0"
  }
 },
 "nbformat": 4,
 "nbformat_minor": 2
}
