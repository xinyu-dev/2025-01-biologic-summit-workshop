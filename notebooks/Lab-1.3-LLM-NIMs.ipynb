{
 "cells": [
  {
   "cell_type": "markdown",
   "metadata": {},
   "source": [
    "# Lab 1.3 LLM NIMs"
   ]
  },
  {
   "cell_type": "markdown",
   "metadata": {},
   "source": [
    "In this notebook, we will take a look at LLMs. These are foundation models that are pre-trained on a large corpus of text and can be used for a variety of tasks such as language translation, question answering, and text generation. \n",
    "\n",
    "In AI assistants, LLM with planning, memory, and tool-calling capabilities are called agents. Depending on the prompt, tool, etc, each agent can have different responsibilities. \n",
    "\n",
    "A group of agents working together is called a crew. \n",
    "\n",
    "In the whole process, LLMs are critical. They make decisions on which tools to use (among the available tools they have), when to use, extract data, and synthesize the response. \n",
    "\n",
    "In this notebook, we will look at a basic example of a chat function of [llama 3.1 LLM hosted on NVIDIA](https://build.nvidia.com/meta/llama-3_1-70b-instruct?snippet_tab=LangChain). With the same NGC API key, you can access all NIMs in the NVIDIA catalog."
   ]
  },
  {
   "cell_type": "code",
   "execution_count": 1,
   "metadata": {},
   "outputs": [
    {
     "data": {
      "text/plain": [
       "True"
      ]
     },
     "execution_count": 1,
     "metadata": {},
     "output_type": "execute_result"
    }
   ],
   "source": [
    "from langchain_nvidia_ai_endpoints import ChatNVIDIA\n",
    "import os\n",
    "from dotenv import load_dotenv\n",
    "# load the API key from the .env file\n",
    "load_dotenv()"
   ]
  },
  {
   "cell_type": "markdown",
   "metadata": {},
   "source": [
    "### Option 1: NVIDIA NIMs"
   ]
  },
  {
   "cell_type": "code",
   "execution_count": 2,
   "metadata": {},
   "outputs": [
    {
     "name": "stdout",
     "output_type": "stream",
     "text": [
      "Antibodies, also known as immunoglobulins, are Y-shaped proteins produced by the immune system in response to the presence of foreign substances, such as bacteria, viruses, or other pathogens. They play a crucial role in the immune response by recognizing and binding to specific antigens, helping to neutralize or remove them from the body. The structure of an antibody is key to its function, allowing it to bind specifically to its target antigen.\n",
      "\n",
      "### Basic Structure of an Antibody\n",
      "\n",
      "An antibody is composed of four polypeptide chains: two heavy chains and two light chains. These chains are held together by disulfide bonds, forming a Y-shaped molecule. The structure can be divided into two main regions: the constant region and the variable region.\n",
      "\n",
      "1. **Constant Region (C Region):**\n",
      "   - The constant regions of the heavy and light chains are identical in antibodies of the same class and are responsible for the effector functions of the antibody, such as complement activation and binding to Fc receptors on immune cells.\n",
      "   - The constant region of the heavy chain determines the class (isotype) of the antibody (IgA, IgD, IgE, IgG, or IgM), which influences the antibody's function and distribution in the body.\n",
      "\n",
      "2. **Variable Region (V Region):**\n",
      "   - The variable regions of both the heavy and light chains contain the antigen-binding sites, which are responsible for the specificity of the antibody.\n",
      "   - Within the variable regions, there are hypervariable regions (also known as complementarity-determining regions, CDRs) that show the greatest variation in amino acid sequence. These regions are directly involved in binding to the antigen.\n",
      "\n",
      "### Domains\n",
      "\n",
      "Both the heavy and light chains are composed of repeating units called domains. Each domain has a similar structure, with a characteristic \"immunoglobulin fold\" that consists of a sandwich of beta sheets held together by a disulfide bond. \n",
      "\n",
      "- **Light Chain:** Each light chain has one variable domain (V_L) and one constant domain (C_L).\n",
      "- **Heavy Chain:** Each heavy chain has one variable domain (V_H), a diversity domain (D), a joining domain (J), and multiple constant domains (C_H1, C_H2, C_H3, etc.), depending on the class of the antibody.\n",
      "\n",
      "### Functionality\n",
      "\n",
      "The unique structure of antibodies allows them to perform several critical functions:\n",
      "- **Antigen Binding:** The variable regions of the antibody bind specifically to antigens, marking them for destruction.\n",
      "- **Effector Functions:** The constant regions interact with immune effector cells and molecules, such as complement proteins, to facilitate the removal of pathogens.\n",
      "\n",
      "In summary, the structure of an antibody is tailored for its role in immune defense, with specific regions designed for recognizing and binding to antigens and other regions for interacting with the immune system to neutralize or remove the pathogen."
     ]
    }
   ],
   "source": [
    "\n",
    "# initialize the LLM client\n",
    "client = ChatNVIDIA(\n",
    "  model=\"meta/llama-3.1-405b-instruct\",\n",
    "  api_key=os.getenv(\"NVIDIA_NIM_API_KEY\"), \n",
    "  temperature=0.2,\n",
    "  top_p=0.7,\n",
    "  max_tokens=1024,\n",
    ")\n",
    "\n",
    "# replace with your own question\n",
    "user_question = \"Explain structure of an antibody\"\n",
    "\n",
    "# stream the response\n",
    "for chunk in client.stream([{\"role\":\"user\",\"content\":user_question}]): \n",
    "  print(chunk.content, end=\"\")\n",
    "\n",
    "  \n"
   ]
  },
  {
   "cell_type": "markdown",
   "metadata": {},
   "source": [
    "### Option 2: OpenAI\n",
    "\n",
    "> OpenAI model requires an API key. This is not covered in the workshop, but we provide snippets so that you can try it out on your own. "
   ]
  },
  {
   "cell_type": "code",
   "execution_count": 3,
   "metadata": {},
   "outputs": [],
   "source": [
    "from langchain_openai import ChatOpenAI\n",
    "\n",
    "client = ChatOpenAI(\n",
    "    model=\"gpt-4o-mini\",\n",
    "    api_key=os.getenv(\"OPENAI_API_KEY\"),\n",
    ")"
   ]
  },
  {
   "cell_type": "code",
   "execution_count": 4,
   "metadata": {},
   "outputs": [
    {
     "name": "stdout",
     "output_type": "stream",
     "text": [
      "Antibodies, also known as immunoglobulins, are specialized proteins produced by the immune system to recognize and neutralize foreign objects such as bacteria, viruses, and toxins. The structure of an antibody is complex and consists of several key components:\n",
      "\n",
      "### Basic Structure\n",
      "\n",
      "1. **Monomeric Form**: Antibodies are typically Y-shaped molecules made up of four polypeptide chains:\n",
      "   - **Two Heavy Chains**: These are longer chains that form the main body of the antibody. Each heavy chain is composed of a variable region (VH) and several constant regions (CH1, CH2, CH3, etc., depending on the class of the antibody).\n",
      "   - **Two Light Chains**: These are shorter chains that are attached to the heavy chains. Each light chain has a variable region (VL) and a constant region (CL).\n",
      "\n",
      "2. **Variable Regions**: The variable regions (VH and VL) are located at the tips of the Y-shaped antibody and are responsible for binding to specific antigens. These regions are highly diverse, allowing antibodies to recognize a wide variety of antigens. The diversity is generated through a process called somatic recombination during B cell development.\n",
      "\n",
      "3. **Constant Regions**: The constant regions (CH and CL) determine the class (isotype) of the antibody (e.g., IgG, IgA, IgM, IgE, IgD) and are involved in effector functions, such as recruiting other components of the immune system.\n",
      "\n",
      "### Structural Domains\n",
      "\n",
      "- **Fab Region (Fragment Antigen-Binding)**: The arms of the Y-shaped antibody consist of the variable regions of both heavy and light chains. The Fab region is responsible for specific antigen binding.\n",
      "\n",
      "- **Fc Region (Fragment Crystallizable)**: The stem of the Y is known as the Fc region, which is formed by the constant regions of the heavy chains. The Fc region is responsible for mediating immune responses, such as binding to Fc receptors on immune cells and activating complement pathways.\n",
      "\n",
      "### Other Features\n",
      "\n",
      "- **Disulfide Bonds**: The heavy and light chains are held together by disulfide bonds, which provide stability to the overall structure. Each antibody molecule typically has multiple disulfide bonds.\n",
      "\n",
      "- **Glycosylation**: Many antibodies have sugar molecules (glycans) attached to the Fc region, which influence their stability, solubility, and interactions with other immune components.\n",
      "\n",
      "### Overall Shape\n",
      "\n",
      "The overall structure of an antibody allows for flexibility and adaptability in its binding interactions. The unique shape of the antigen-binding site, formed by the combination of the variable regions of the heavy and light chains, determines the specificity of each antibody for its corresponding antigen.\n",
      "\n",
      "In summary, the structure of an antibody, with its distinct regions and domains, enables it to perform its role in the immune system effectively, providing recognition and targeting of pathogens."
     ]
    }
   ],
   "source": [
    "\n",
    "# replace with your own question\n",
    "user_question = \"Explain structure of an antibody\"\n",
    "\n",
    "# stream the response\n",
    "for chunk in client.stream([{\"role\":\"user\",\"content\":user_question}]): \n",
    "  print(chunk.content, end=\"\")"
   ]
  },
  {
   "cell_type": "code",
   "execution_count": null,
   "metadata": {},
   "outputs": [],
   "source": []
  }
 ],
 "metadata": {
  "kernelspec": {
   "display_name": "workshop",
   "language": "python",
   "name": "python3"
  },
  "language_info": {
   "codemirror_mode": {
    "name": "ipython",
    "version": 3
   },
   "file_extension": ".py",
   "mimetype": "text/x-python",
   "name": "python",
   "nbconvert_exporter": "python",
   "pygments_lexer": "ipython3",
   "version": "3.12.7"
  }
 },
 "nbformat": 4,
 "nbformat_minor": 2
}
